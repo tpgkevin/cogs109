{
 "cells": [
  {
   "cell_type": "code",
   "execution_count": 16,
   "metadata": {},
   "outputs": [],
   "source": [
    "import pandas as pd\n",
    "import numpy as np\n",
    "import matplotlib\n",
    "import matplotlib.pyplot as plt\n",
    "import math\n",
    "import statsmodels.api as sm\n",
    "from datetime import datetime, timedelta\n",
    "from sklearn.linear_model import Lasso, Ridge\n",
    "from sklearn.metrics import mean_squared_error\n",
    "\n",
    "\n",
    "\n",
    "%matplotlib inline"
   ]
  },
  {
   "cell_type": "markdown",
   "metadata": {},
   "source": [
    "## American Housing Survey Questionnaire - 2017\n",
    "\n",
    "About: https://www.census.gov/programs-surveys/ahs.html\n",
    "\n",
    "Download: http://www2.census.gov/programs-surveys/ahs/2017/AHS%202017%20National%20PUF%20v3.0%20Flat%20CSV.zip?#\n",
    "\n",
    "Codebook: https://www.census.gov/data-tools/demo/codebook/ahs/ahsdict.html\n",
    "\n",
    "Definitions: https://www2.census.gov/programs-surveys/ahs/2017/2017%20AHS%20Definitions.pdf?#\n"
   ]
  },
  {
   "cell_type": "code",
   "execution_count": 17,
   "metadata": {},
   "outputs": [
    {
     "name": "stdout",
     "output_type": "stream",
     "text": [
      "(66752, 3180)\n"
     ]
    },
    {
     "data": {
      "text/html": [
       "<div>\n",
       "<style scoped>\n",
       "    .dataframe tbody tr th:only-of-type {\n",
       "        vertical-align: middle;\n",
       "    }\n",
       "\n",
       "    .dataframe tbody tr th {\n",
       "        vertical-align: top;\n",
       "    }\n",
       "\n",
       "    .dataframe thead th {\n",
       "        text-align: right;\n",
       "    }\n",
       "</style>\n",
       "<table border=\"1\" class=\"dataframe\">\n",
       "  <thead>\n",
       "    <tr style=\"text-align: right;\">\n",
       "      <th></th>\n",
       "      <th>CONTROL</th>\n",
       "      <th>TOTROOMS</th>\n",
       "      <th>PERPOVLVL</th>\n",
       "      <th>COMTYPE</th>\n",
       "      <th>COMCOST</th>\n",
       "      <th>JACPRIMARY</th>\n",
       "      <th>JACSECNDRY</th>\n",
       "      <th>JADEQUACY</th>\n",
       "      <th>JBATHEXCLU</th>\n",
       "      <th>JBATHROOMS</th>\n",
       "      <th>...</th>\n",
       "      <th>JOBDIY28</th>\n",
       "      <th>JOBFUNDS26</th>\n",
       "      <th>JOBFUNDS27</th>\n",
       "      <th>JOBFUNDS28</th>\n",
       "      <th>JOBTYPE26</th>\n",
       "      <th>JOBTYPE27</th>\n",
       "      <th>JOBTYPE28</th>\n",
       "      <th>JOBWORKYR26</th>\n",
       "      <th>JOBWORKYR27</th>\n",
       "      <th>JOBWORKYR28</th>\n",
       "    </tr>\n",
       "  </thead>\n",
       "  <tbody>\n",
       "    <tr>\n",
       "      <th>0</th>\n",
       "      <td>'11000001'</td>\n",
       "      <td>8</td>\n",
       "      <td>501</td>\n",
       "      <td>'-6'</td>\n",
       "      <td>-6</td>\n",
       "      <td>'0'</td>\n",
       "      <td>'0'</td>\n",
       "      <td>'2'</td>\n",
       "      <td>'0'</td>\n",
       "      <td>'0'</td>\n",
       "      <td>...</td>\n",
       "      <td>'-9'</td>\n",
       "      <td>'-9'</td>\n",
       "      <td>'-9'</td>\n",
       "      <td>'-9'</td>\n",
       "      <td>'-9'</td>\n",
       "      <td>'-9'</td>\n",
       "      <td>'-9'</td>\n",
       "      <td>'-9'</td>\n",
       "      <td>'-9'</td>\n",
       "      <td>'-9'</td>\n",
       "    </tr>\n",
       "    <tr>\n",
       "      <th>1</th>\n",
       "      <td>'11000002'</td>\n",
       "      <td>7</td>\n",
       "      <td>501</td>\n",
       "      <td>'-6'</td>\n",
       "      <td>-6</td>\n",
       "      <td>'0'</td>\n",
       "      <td>'0'</td>\n",
       "      <td>'2'</td>\n",
       "      <td>'0'</td>\n",
       "      <td>'0'</td>\n",
       "      <td>...</td>\n",
       "      <td>'-9'</td>\n",
       "      <td>'-9'</td>\n",
       "      <td>'-9'</td>\n",
       "      <td>'-9'</td>\n",
       "      <td>'-9'</td>\n",
       "      <td>'-9'</td>\n",
       "      <td>'-9'</td>\n",
       "      <td>'-9'</td>\n",
       "      <td>'-9'</td>\n",
       "      <td>'-9'</td>\n",
       "    </tr>\n",
       "    <tr>\n",
       "      <th>2</th>\n",
       "      <td>'11000005'</td>\n",
       "      <td>8</td>\n",
       "      <td>501</td>\n",
       "      <td>'-6'</td>\n",
       "      <td>-6</td>\n",
       "      <td>'0'</td>\n",
       "      <td>'0'</td>\n",
       "      <td>'2'</td>\n",
       "      <td>'0'</td>\n",
       "      <td>'0'</td>\n",
       "      <td>...</td>\n",
       "      <td>'-9'</td>\n",
       "      <td>'-9'</td>\n",
       "      <td>'-9'</td>\n",
       "      <td>'-9'</td>\n",
       "      <td>'-9'</td>\n",
       "      <td>'-9'</td>\n",
       "      <td>'-9'</td>\n",
       "      <td>'-9'</td>\n",
       "      <td>'-9'</td>\n",
       "      <td>'-9'</td>\n",
       "    </tr>\n",
       "    <tr>\n",
       "      <th>3</th>\n",
       "      <td>'11000006'</td>\n",
       "      <td>5</td>\n",
       "      <td>361</td>\n",
       "      <td>'-6'</td>\n",
       "      <td>-6</td>\n",
       "      <td>'0'</td>\n",
       "      <td>'0'</td>\n",
       "      <td>'2'</td>\n",
       "      <td>'0'</td>\n",
       "      <td>'0'</td>\n",
       "      <td>...</td>\n",
       "      <td>'-9'</td>\n",
       "      <td>'-9'</td>\n",
       "      <td>'-9'</td>\n",
       "      <td>'-9'</td>\n",
       "      <td>'-9'</td>\n",
       "      <td>'-9'</td>\n",
       "      <td>'-9'</td>\n",
       "      <td>'-9'</td>\n",
       "      <td>'-9'</td>\n",
       "      <td>'-9'</td>\n",
       "    </tr>\n",
       "    <tr>\n",
       "      <th>4</th>\n",
       "      <td>'11000007'</td>\n",
       "      <td>8</td>\n",
       "      <td>501</td>\n",
       "      <td>'1'</td>\n",
       "      <td>5564</td>\n",
       "      <td>'0'</td>\n",
       "      <td>'0'</td>\n",
       "      <td>'2'</td>\n",
       "      <td>'0'</td>\n",
       "      <td>'0'</td>\n",
       "      <td>...</td>\n",
       "      <td>'-9'</td>\n",
       "      <td>'-9'</td>\n",
       "      <td>'-9'</td>\n",
       "      <td>'-9'</td>\n",
       "      <td>'-9'</td>\n",
       "      <td>'-9'</td>\n",
       "      <td>'-9'</td>\n",
       "      <td>'-9'</td>\n",
       "      <td>'-9'</td>\n",
       "      <td>'-9'</td>\n",
       "    </tr>\n",
       "  </tbody>\n",
       "</table>\n",
       "<p>5 rows × 3180 columns</p>\n",
       "</div>"
      ],
      "text/plain": [
       "      CONTROL  TOTROOMS  PERPOVLVL COMTYPE  COMCOST JACPRIMARY JACSECNDRY  \\\n",
       "0  '11000001'         8        501    '-6'       -6        '0'        '0'   \n",
       "1  '11000002'         7        501    '-6'       -6        '0'        '0'   \n",
       "2  '11000005'         8        501    '-6'       -6        '0'        '0'   \n",
       "3  '11000006'         5        361    '-6'       -6        '0'        '0'   \n",
       "4  '11000007'         8        501     '1'     5564        '0'        '0'   \n",
       "\n",
       "  JADEQUACY JBATHEXCLU JBATHROOMS  ... JOBDIY28 JOBFUNDS26 JOBFUNDS27  \\\n",
       "0       '2'        '0'        '0'  ...     '-9'       '-9'       '-9'   \n",
       "1       '2'        '0'        '0'  ...     '-9'       '-9'       '-9'   \n",
       "2       '2'        '0'        '0'  ...     '-9'       '-9'       '-9'   \n",
       "3       '2'        '0'        '0'  ...     '-9'       '-9'       '-9'   \n",
       "4       '2'        '0'        '0'  ...     '-9'       '-9'       '-9'   \n",
       "\n",
       "  JOBFUNDS28 JOBTYPE26 JOBTYPE27 JOBTYPE28 JOBWORKYR26 JOBWORKYR27 JOBWORKYR28  \n",
       "0       '-9'      '-9'      '-9'      '-9'        '-9'        '-9'        '-9'  \n",
       "1       '-9'      '-9'      '-9'      '-9'        '-9'        '-9'        '-9'  \n",
       "2       '-9'      '-9'      '-9'      '-9'        '-9'        '-9'        '-9'  \n",
       "3       '-9'      '-9'      '-9'      '-9'        '-9'        '-9'        '-9'  \n",
       "4       '-9'      '-9'      '-9'      '-9'        '-9'        '-9'        '-9'  \n",
       "\n",
       "[5 rows x 3180 columns]"
      ]
     },
     "execution_count": 17,
     "metadata": {},
     "output_type": "execute_result"
    }
   ],
   "source": [
    "df = pd.read_csv(\"data/ahs2017n.csv\")\n",
    "print(df.shape)\n",
    "df.head()"
   ]
  },
  {
   "cell_type": "markdown",
   "metadata": {},
   "source": [
    "## Cleaning and Exploration"
   ]
  },
  {
   "cell_type": "code",
   "execution_count": 18,
   "metadata": {},
   "outputs": [
    {
     "data": {
      "text/plain": [
       "(31001, 11)"
      ]
     },
     "execution_count": 18,
     "metadata": {},
     "output_type": "execute_result"
    }
   ],
   "source": [
    "cols = [\n",
    "    \"YRBUILT\",    # year built\n",
    "    \"LOTSIZE\",    # size of lot\n",
    "    \"STORIES\",    # number of stories\n",
    "    \"BEDROOMS\",   # number of bedrooms\n",
    "    \"BATHROOMS\",  # number of bathrooms\n",
    "    \"KITCHENS\",   # number of kitches\n",
    "    \"NUMPEOPLE\",  # number of people living in unit\n",
    "    \"TOTROOMS\",   # total rooms\n",
    "    \"HHAGE\",      # householder age\n",
    "    \"HINCP\",      # household income\n",
    "    \"MARKETVAL\",  # current market value\n",
    "]\n",
    "\n",
    "df_filtered = df[cols]\n",
    "df_filtered = df_filtered[df_filtered['NUMPEOPLE'] > 0]\n",
    "df_filtered = df_filtered[df_filtered['HINCP'] < 1_000_000]\n",
    "df_filtered = df_filtered[df_filtered['MARKETVAL'] < 2_000_000]\n",
    "df_filtered = df_filtered[df_filtered['MARKETVAL'] > 1_000]\n",
    "df_filtered[\"BATHROOMS\"] = df_filtered[\"BATHROOMS\"].apply(lambda x: int(x.replace(\"'\",\"\")))\n",
    "df_filtered[\"LOTSIZE\"] = df_filtered[\"LOTSIZE\"].apply(lambda x: int(x.replace(\"'\",\"\")))\n",
    "df_filtered = df_filtered[df_filtered['LOTSIZE'] > 0]\n",
    "\n",
    "\n",
    "df_filtered.shape"
   ]
  },
  {
   "cell_type": "code",
   "execution_count": 19,
   "metadata": {},
   "outputs": [
    {
     "data": {
      "image/png": "[encoded data removed]",
      "text/plain": [
       "<Figure size 1440x1440 with 12 Axes>"
      ]
     },
     "metadata": {
      "needs_background": "light"
     },
     "output_type": "display_data"
    }
   ],
   "source": [
    "_ = df_filtered.hist(column=cols, bins=25, figsize=(20,20))"
   ]
  },
  {
   "cell_type": "markdown",
   "metadata": {},
   "source": [
    "## K-Folds Cross Validation"
   ]
  },
  {
   "cell_type": "code",
   "execution_count": 20,
   "metadata": {},
   "outputs": [],
   "source": [
    "df_filtered = df_filtered.sample(frac=1)\n",
    "num_folds = 5\n",
    "folds_counter = 0\n",
    "\n",
    "def assign_k(row):\n",
    "    global num_folds, folds_counter\n",
    "    curr_num = folds_counter\n",
    "    folds_counter = (folds_counter + 1) % num_folds\n",
    "    return curr_num\n",
    "\n",
    "df_filtered['k'] = df_filtered.apply(assign_k, axis=1)\n",
    "\n",
    "df_train = df_filtered[df_filtered['k'] != 0]\n",
    "df_test = df_filtered[df_filtered['k'] == 0]"
   ]
  },
  {
   "cell_type": "markdown",
   "metadata": {},
   "source": [
    "## Model 1 - Multiple Linear Regression - Forward Stepwise Selection"
   ]
  },
  {
   "cell_type": "code",
   "execution_count": 21,
   "metadata": {},
   "outputs": [
    {
     "name": "stderr",
     "output_type": "stream",
     "text": [
      "/usr/local/lib/python3.7/dist-packages/numpy/core/fromnumeric.py:2389: FutureWarning: Method .ptp is deprecated and will be removed in a future version. Use numpy.ptp instead.\n",
      "  return ptp(axis=axis, out=out, **kwargs)\n"
     ]
    }
   ],
   "source": [
    "predictors = cols[:-1]\n",
    "selected_predictors = []\n",
    "errors = []\n",
    "smallest_error = float(\"inf\")\n",
    "smallest_error_index = 0\n",
    "\n",
    "for j in range(len(predictors)):\n",
    "    \n",
    "    smallest_mse_index = 0\n",
    "    smallest_mse = float(\"inf\")\n",
    "    \n",
    "    for i, predictor in enumerate(predictors): \n",
    "        \n",
    "        X = df_train[selected_predictors + [predictor]]\n",
    "        X = sm.add_constant(X)\n",
    "        Y = df_train[\"MARKETVAL\"]\n",
    "        model = sm.OLS(Y,X)\n",
    "        results = model.fit()\n",
    "        y_true = df_test[\"MARKETVAL\"]\n",
    "        y_pred = results.predict(sm.add_constant(df_test[selected_predictors + [predictor]]))\n",
    "        mse = sm.tools.eval_measures.mse(y_true, y_pred)\n",
    "        \n",
    "        if mse < smallest_mse:\n",
    "            smallest_mse = mse\n",
    "            smallest_mse_index = i\n",
    "            \n",
    "            \n",
    "    selected_predictors.append(predictors.pop(smallest_mse_index))\n",
    "    errors.append(smallest_mse)\n",
    "    \n",
    "    if smallest_mse < smallest_error:\n",
    "        smallest_error = smallest_mse\n",
    "        smallest_error_index = j\n",
    "        "
   ]
  },
  {
   "cell_type": "code",
   "execution_count": 22,
   "metadata": {},
   "outputs": [
    {
     "data": {
      "image/png": "[encoded data removed]",
      "text/plain": [
       "<Figure size 432x288 with 1 Axes>"
      ]
     },
     "metadata": {
      "needs_background": "light"
     },
     "output_type": "display_data"
    }
   ],
   "source": [
    "plt.plot(errors)\n",
    "_ = plt.ylabel(\"MSE\")\n",
    "_ = plt.xlabel(\"Number of predictors\")"
   ]
  },
  {
   "cell_type": "code",
   "execution_count": 23,
   "metadata": {},
   "outputs": [
    {
     "name": "stdout",
     "output_type": "stream",
     "text": [
      "Top predictors: ['BATHROOMS', 'HINCP', 'YRBUILT', 'TOTROOMS', 'HHAGE', 'LOTSIZE', 'BEDROOMS', 'KITCHENS', 'NUMPEOPLE']\n",
      "MSE: 51355492438.3039\n",
      "const        2.554618e+06\n",
      "BATHROOMS    5.764642e+04\n",
      "HINCP        8.479828e-01\n",
      "YRBUILT     -1.319932e+03\n",
      "TOTROOMS     2.563541e+04\n",
      "HHAGE        1.405191e+03\n",
      "LOTSIZE     -1.336289e+04\n",
      "BEDROOMS    -4.073797e+03\n",
      "KITCHENS    -1.023912e+05\n",
      "NUMPEOPLE   -3.223514e+03\n",
      "dtype: float64\n"
     ]
    },
    {
     "data": {
      "text/html": [
       "<table class=\"simpletable\">\n",
       "<caption>OLS Regression Results</caption>\n",
       "<tr>\n",
       "  <th>Dep. Variable:</th>        <td>MARKETVAL</td>    <th>  R-squared:         </th>  <td>   0.298</td>  \n",
       "</tr>\n",
       "<tr>\n",
       "  <th>Model:</th>                   <td>OLS</td>       <th>  Adj. R-squared:    </th>  <td>   0.298</td>  \n",
       "</tr>\n",
       "<tr>\n",
       "  <th>Method:</th>             <td>Least Squares</td>  <th>  F-statistic:       </th>  <td>   1168.</td>  \n",
       "</tr>\n",
       "<tr>\n",
       "  <th>Date:</th>             <td>Thu, 05 Dec 2019</td> <th>  Prob (F-statistic):</th>   <td>  0.00</td>   \n",
       "</tr>\n",
       "<tr>\n",
       "  <th>Time:</th>                 <td>10:11:40</td>     <th>  Log-Likelihood:    </th> <td>-3.4107e+05</td>\n",
       "</tr>\n",
       "<tr>\n",
       "  <th>No. Observations:</th>      <td> 24800</td>      <th>  AIC:               </th>  <td>6.822e+05</td> \n",
       "</tr>\n",
       "<tr>\n",
       "  <th>Df Residuals:</th>          <td> 24790</td>      <th>  BIC:               </th>  <td>6.822e+05</td> \n",
       "</tr>\n",
       "<tr>\n",
       "  <th>Df Model:</th>              <td>     9</td>      <th>                     </th>      <td> </td>     \n",
       "</tr>\n",
       "<tr>\n",
       "  <th>Covariance Type:</th>      <td>nonrobust</td>    <th>                     </th>      <td> </td>     \n",
       "</tr>\n",
       "</table>\n",
       "<table class=\"simpletable\">\n",
       "<tr>\n",
       "      <td></td>         <th>coef</th>     <th>std err</th>      <th>t</th>      <th>P>|t|</th>  <th>[0.025</th>    <th>0.975]</th>  \n",
       "</tr>\n",
       "<tr>\n",
       "  <th>const</th>     <td> 2.555e+06</td> <td> 1.32e+05</td> <td>   19.328</td> <td> 0.000</td> <td>  2.3e+06</td> <td> 2.81e+06</td>\n",
       "</tr>\n",
       "<tr>\n",
       "  <th>BATHROOMS</th> <td> 5.765e+04</td> <td> 1515.491</td> <td>   38.038</td> <td> 0.000</td> <td> 5.47e+04</td> <td> 6.06e+04</td>\n",
       "</tr>\n",
       "<tr>\n",
       "  <th>HINCP</th>     <td>    0.8480</td> <td>    0.016</td> <td>   53.287</td> <td> 0.000</td> <td>    0.817</td> <td>    0.879</td>\n",
       "</tr>\n",
       "<tr>\n",
       "  <th>YRBUILT</th>   <td>-1319.9318</td> <td>   65.231</td> <td>  -20.235</td> <td> 0.000</td> <td>-1447.788</td> <td>-1192.076</td>\n",
       "</tr>\n",
       "<tr>\n",
       "  <th>TOTROOMS</th>  <td> 2.564e+04</td> <td> 1630.984</td> <td>   15.718</td> <td> 0.000</td> <td> 2.24e+04</td> <td> 2.88e+04</td>\n",
       "</tr>\n",
       "<tr>\n",
       "  <th>HHAGE</th>     <td> 1405.1910</td> <td>  106.392</td> <td>   13.208</td> <td> 0.000</td> <td> 1196.657</td> <td> 1613.725</td>\n",
       "</tr>\n",
       "<tr>\n",
       "  <th>LOTSIZE</th>   <td>-1.336e+04</td> <td>  972.272</td> <td>  -13.744</td> <td> 0.000</td> <td>-1.53e+04</td> <td>-1.15e+04</td>\n",
       "</tr>\n",
       "<tr>\n",
       "  <th>BEDROOMS</th>  <td>-4073.7969</td> <td> 2892.968</td> <td>   -1.408</td> <td> 0.159</td> <td>-9744.187</td> <td> 1596.594</td>\n",
       "</tr>\n",
       "<tr>\n",
       "  <th>KITCHENS</th>  <td>-1.024e+05</td> <td>  2.9e+04</td> <td>   -3.527</td> <td> 0.000</td> <td>-1.59e+05</td> <td>-4.55e+04</td>\n",
       "</tr>\n",
       "<tr>\n",
       "  <th>NUMPEOPLE</th> <td>-3223.5137</td> <td> 1147.603</td> <td>   -2.809</td> <td> 0.005</td> <td>-5472.884</td> <td> -974.143</td>\n",
       "</tr>\n",
       "</table>\n",
       "<table class=\"simpletable\">\n",
       "<tr>\n",
       "  <th>Omnibus:</th>       <td>11261.580</td> <th>  Durbin-Watson:     </th> <td>   1.990</td> \n",
       "</tr>\n",
       "<tr>\n",
       "  <th>Prob(Omnibus):</th>  <td> 0.000</td>   <th>  Jarque-Bera (JB):  </th> <td>77476.178</td>\n",
       "</tr>\n",
       "<tr>\n",
       "  <th>Skew:</th>           <td> 2.070</td>   <th>  Prob(JB):          </th> <td>    0.00</td> \n",
       "</tr>\n",
       "<tr>\n",
       "  <th>Kurtosis:</th>       <td>10.605</td>   <th>  Cond. No.          </th> <td>1.30e+07</td> \n",
       "</tr>\n",
       "</table><br/><br/>Warnings:<br/>[1] Standard Errors assume that the covariance matrix of the errors is correctly specified.<br/>[2] The condition number is large, 1.3e+07. This might indicate that there are<br/>strong multicollinearity or other numerical problems."
      ],
      "text/plain": [
       "<class 'statsmodels.iolib.summary.Summary'>\n",
       "\"\"\"\n",
       "                            OLS Regression Results                            \n",
       "==============================================================================\n",
       "Dep. Variable:              MARKETVAL   R-squared:                       0.298\n",
       "Model:                            OLS   Adj. R-squared:                  0.298\n",
       "Method:                 Least Squares   F-statistic:                     1168.\n",
       "Date:                Thu, 05 Dec 2019   Prob (F-statistic):               0.00\n",
       "Time:                        10:11:40   Log-Likelihood:            -3.4107e+05\n",
       "No. Observations:               24800   AIC:                         6.822e+05\n",
       "Df Residuals:                   24790   BIC:                         6.822e+05\n",
       "Df Model:                           9                                         \n",
       "Covariance Type:            nonrobust                                         \n",
       "==============================================================================\n",
       "                 coef    std err          t      P>|t|      [0.025      0.975]\n",
       "------------------------------------------------------------------------------\n",
       "const       2.555e+06   1.32e+05     19.328      0.000     2.3e+06    2.81e+06\n",
       "BATHROOMS   5.765e+04   1515.491     38.038      0.000    5.47e+04    6.06e+04\n",
       "HINCP          0.8480      0.016     53.287      0.000       0.817       0.879\n",
       "YRBUILT    -1319.9318     65.231    -20.235      0.000   -1447.788   -1192.076\n",
       "TOTROOMS    2.564e+04   1630.984     15.718      0.000    2.24e+04    2.88e+04\n",
       "HHAGE       1405.1910    106.392     13.208      0.000    1196.657    1613.725\n",
       "LOTSIZE    -1.336e+04    972.272    -13.744      0.000   -1.53e+04   -1.15e+04\n",
       "BEDROOMS   -4073.7969   2892.968     -1.408      0.159   -9744.187    1596.594\n",
       "KITCHENS   -1.024e+05    2.9e+04     -3.527      0.000   -1.59e+05   -4.55e+04\n",
       "NUMPEOPLE  -3223.5137   1147.603     -2.809      0.005   -5472.884    -974.143\n",
       "==============================================================================\n",
       "Omnibus:                    11261.580   Durbin-Watson:                   1.990\n",
       "Prob(Omnibus):                  0.000   Jarque-Bera (JB):            77476.178\n",
       "Skew:                           2.070   Prob(JB):                         0.00\n",
       "Kurtosis:                      10.605   Cond. No.                     1.30e+07\n",
       "==============================================================================\n",
       "\n",
       "Warnings:\n",
       "[1] Standard Errors assume that the covariance matrix of the errors is correctly specified.\n",
       "[2] The condition number is large, 1.3e+07. This might indicate that there are\n",
       "strong multicollinearity or other numerical problems.\n",
       "\"\"\""
      ]
     },
     "execution_count": 23,
     "metadata": {},
     "output_type": "execute_result"
    }
   ],
   "source": [
    "# create best model\n",
    "multiple_linear_regression_error = smallest_error\n",
    "print(\"Top predictors: \" + str(selected_predictors[:smallest_error_index+1]))\n",
    "print(\"MSE: \" + str(multiple_linear_regression_error))\n",
    "X = df_train[selected_predictors[:smallest_error_index+1]]\n",
    "X = sm.add_constant(X)\n",
    "Y = df_train[\"MARKETVAL\"]\n",
    "model = sm.OLS(Y,X)\n",
    "results = model.fit()\n",
    "print(results.params)\n",
    "results.summary()"
   ]
  },
  {
   "cell_type": "markdown",
   "metadata": {},
   "source": [
    "## Model 2 - Lasso Regression - Forward Stepwise Selection"
   ]
  },
  {
   "cell_type": "code",
   "execution_count": 24,
   "metadata": {},
   "outputs": [],
   "source": [
    "predictors = cols[:-1]\n",
    "selected_predictors = []\n",
    "errors = []\n",
    "smallest_error = float(\"inf\")\n",
    "smallest_error_index = 0\n",
    "\n",
    "for j in range(len(predictors)):\n",
    "    \n",
    "    smallest_mse_index = 0\n",
    "    smallest_mse = float(\"inf\")\n",
    "    \n",
    "    for i, predictor in enumerate(predictors): \n",
    "        \n",
    "        X = df_train[selected_predictors + [predictor]]\n",
    "        Y = df_train[\"MARKETVAL\"]\n",
    "        lasso = Lasso()\n",
    "        lasso.fit(X, Y)\n",
    "        y_true = df_test[\"MARKETVAL\"]\n",
    "        y_pred = lasso.predict(df_test[selected_predictors + [predictor]])        \n",
    "        mse = mean_squared_error(y_true, y_pred)\n",
    "        \n",
    "        if mse < smallest_mse:\n",
    "            smallest_mse = mse\n",
    "            smallest_mse_index = i\n",
    "            \n",
    "            \n",
    "    selected_predictors.append(predictors.pop(smallest_mse_index))\n",
    "    errors.append(smallest_mse)\n",
    "    \n",
    "    if smallest_mse < smallest_error:\n",
    "        smallest_error = smallest_mse\n",
    "        smallest_error_index = j\n",
    "        "
   ]
  },
  {
   "cell_type": "code",
   "execution_count": 25,
   "metadata": {},
   "outputs": [
    {
     "data": {
      "image/png": "[encoded data removed]",
      "text/plain": [
       "<Figure size 432x288 with 1 Axes>"
      ]
     },
     "metadata": {
      "needs_background": "light"
     },
     "output_type": "display_data"
    }
   ],
   "source": [
    "plt.plot(errors)\n",
    "_ = plt.ylabel(\"MSE\")\n",
    "_ = plt.xlabel(\"Number of predictors\")"
   ]
  },
  {
   "cell_type": "code",
   "execution_count": 26,
   "metadata": {},
   "outputs": [
    {
     "name": "stdout",
     "output_type": "stream",
     "text": [
      "Top predictors: ['BATHROOMS', 'HINCP', 'YRBUILT', 'TOTROOMS', 'HHAGE', 'LOTSIZE', 'BEDROOMS', 'KITCHENS', 'NUMPEOPLE']\n",
      "MSE: 51355466587.70133\n",
      "[ 5.76451716e+04  8.47992746e-01 -1.31990023e+03  2.56312940e+04\n",
      "  1.40522495e+03 -1.33623149e+04 -4.06721929e+03 -1.01983690e+05\n",
      " -3.22323915e+03]\n",
      "2554151.1552422927\n"
     ]
    }
   ],
   "source": [
    "lasso_regression_error = smallest_error\n",
    "print(\"Top predictors: \" + str(selected_predictors[:smallest_error_index+1]))\n",
    "print(\"MSE: \" + str(lasso_regression_error))\n",
    "\n",
    "X = df_train[selected_predictors[:smallest_error_index+1]]\n",
    "Y = df_train[\"MARKETVAL\"]\n",
    "lasso = Lasso()\n",
    "lasso.fit(X, Y)\n",
    "print(lasso.coef_)\n",
    "print(lasso.intercept_)"
   ]
  },
  {
   "cell_type": "markdown",
   "metadata": {},
   "source": [
    "## Model 3 - Ridge Regression - Forward Stepwise Selection"
   ]
  },
  {
   "cell_type": "code",
   "execution_count": 27,
   "metadata": {},
   "outputs": [],
   "source": [
    "predictors = cols[:-1]\n",
    "selected_predictors = []\n",
    "errors = []\n",
    "smallest_error = float(\"inf\")\n",
    "smallest_error_index = 0\n",
    "\n",
    "for j in range(len(predictors)):\n",
    "    \n",
    "    smallest_mse_index = 0\n",
    "    smallest_mse = float(\"inf\")\n",
    "    \n",
    "    for i, predictor in enumerate(predictors): \n",
    "        \n",
    "        X = df_train[selected_predictors + [predictor]]\n",
    "        Y = df_train[\"MARKETVAL\"]\n",
    "        ridge = Ridge()\n",
    "        ridge.fit(X, Y)\n",
    "        y_true = df_test[\"MARKETVAL\"]\n",
    "        y_pred = ridge.predict(df_test[selected_predictors + [predictor]])        \n",
    "        mse = mean_squared_error(y_true, y_pred)\n",
    "        \n",
    "        if mse < smallest_mse:\n",
    "            smallest_mse = mse\n",
    "            smallest_mse_index = i\n",
    "            \n",
    "            \n",
    "    selected_predictors.append(predictors.pop(smallest_mse_index))\n",
    "    errors.append(smallest_mse)\n",
    "    \n",
    "    if smallest_mse < smallest_error:\n",
    "        smallest_error = smallest_mse\n",
    "        smallest_error_index = j\n",
    "        "
   ]
  },
  {
   "cell_type": "code",
   "execution_count": 28,
   "metadata": {},
   "outputs": [
    {
     "data": {
      "image/png": "[encoded data removed]",
      "text/plain": [
       "<Figure size 432x288 with 1 Axes>"
      ]
     },
     "metadata": {
      "needs_background": "light"
     },
     "output_type": "display_data"
    }
   ],
   "source": [
    "plt.plot(errors)\n",
    "_ = plt.ylabel(\"MSE\")\n",
    "_ = plt.xlabel(\"Number of predictors\")"
   ]
  },
  {
   "cell_type": "code",
   "execution_count": 29,
   "metadata": {},
   "outputs": [
    {
     "name": "stdout",
     "output_type": "stream",
     "text": [
      "Top predictors: ['BATHROOMS', 'HINCP', 'YRBUILT', 'TOTROOMS', 'HHAGE', 'LOTSIZE', 'BEDROOMS', 'KITCHENS', 'NUMPEOPLE']\n",
      "MSE: 51355416553.69778\n",
      "[ 5.76451716e+04  8.47992746e-01 -1.31990023e+03  2.56312940e+04\n",
      "  1.40522495e+03 -1.33623149e+04 -4.06721929e+03 -1.01983690e+05\n",
      " -3.22323915e+03]\n",
      "2554151.1552422927\n"
     ]
    }
   ],
   "source": [
    "ridge_regression_error = smallest_error\n",
    "print(\"Top predictors: \" + str(selected_predictors[:smallest_error_index+1]))\n",
    "print(\"MSE: \" + str(ridge_regression_error))\n",
    "X = df_train[selected_predictors[:smallest_error_index+1]]\n",
    "Y = df_train[\"MARKETVAL\"]\n",
    "ridge = Lasso()\n",
    "ridge.fit(X, Y)\n",
    "print(ridge.coef_)\n",
    "print(ridge.intercept_)"
   ]
  },
  {
   "cell_type": "code",
   "execution_count": 30,
   "metadata": {},
   "outputs": [
    {
     "name": "stdout",
     "output_type": "stream",
     "text": [
      "51355492438.3039\n",
      "51355466587.70133\n",
      "51355416553.69778\n"
     ]
    }
   ],
   "source": [
    "print(multiple_linear_regression_error)\n",
    "print(lasso_regression_error)\n",
    "print(ridge_regression_error)"
   ]
  }
 ],
 "metadata": {
  "kernelspec": {
   "display_name": "Python 3",
   "language": "python",
   "name": "python3"
  },
  "language_info": {
   "codemirror_mode": {
    "name": "ipython",
    "version": 3
   },
   "file_extension": ".py",
   "mimetype": "text/x-python",
   "name": "python",
   "nbconvert_exporter": "python",
   "pygments_lexer": "ipython3",
   "version": "3.7.3"
  }
 },
 "nbformat": 4,
 "nbformat_minor": 2
}

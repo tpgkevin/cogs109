{
 "cells": [
  {
   "cell_type": "code",
   "execution_count": 1,
   "metadata": {},
   "outputs": [],
   "source": [
    "import pandas as pd\n",
    "import numpy as np\n",
    "import matplotlib\n",
    "import matplotlib.pyplot as plt\n",
    "import math\n",
    "import statsmodels.api as sm\n",
    "from datetime import datetime, timedelta\n",
    "from sklearn.linear_model import Lasso, Ridge\n",
    "from sklearn.metrics import mean_squared_error\n",
    "\n",
    "\n",
    "\n",
    "%matplotlib inline"
   ]
  },
  {
   "cell_type": "markdown",
   "metadata": {},
   "source": [
    "## American Housing Survey Questionnaire - 2017\n",
    "\n",
    "About: https://www.census.gov/programs-surveys/ahs.html\n",
    "\n",
    "Download: http://www2.census.gov/programs-surveys/ahs/2017/AHS%202017%20National%20PUF%20v3.0%20Flat%20CSV.zip?#\n",
    "\n",
    "Codebook: https://www.census.gov/data-tools/demo/codebook/ahs/ahsdict.html\n",
    "\n",
    "Definitions: https://www2.census.gov/programs-surveys/ahs/2017/2017%20AHS%20Definitions.pdf?#\n"
   ]
  },
  {
   "cell_type": "code",
   "execution_count": null,
   "metadata": {},
   "outputs": [],
   "source": [
    "df = pd.read_csv(\"data/ahs2017n.csv\")\n",
    "print(df.shape)\n",
    "df.head()"
   ]
  },
  {
   "cell_type": "markdown",
   "metadata": {},
   "source": [
    "## Cleaning and Exploration"
   ]
  },
  {
   "cell_type": "code",
   "execution_count": null,
   "metadata": {},
   "outputs": [],
   "source": [
    "cols = [\n",
    "    \"YRBUILT\",    # year built\n",
    "    \"LOTSIZE\",    # size of lot\n",
    "    \"STORIES\",    # number of stories\n",
    "    \"BEDROOMS\",   # number of bedrooms\n",
    "    \"BATHROOMS\",  # number of bathrooms\n",
    "    \"KITCHENS\",   # number of kitches\n",
    "    \"NUMPEOPLE\",  # number of people living in unit\n",
    "    \"TOTROOMS\",   # total rooms\n",
    "    \"HHAGE\",      # householder age\n",
    "    \"HINCP\",      # household income\n",
    "    \"MARKETVAL\",  # current market value\n",
    "]\n",
    "\n",
    "df_filtered = df[cols]\n",
    "df_filtered = df_filtered[df_filtered['NUMPEOPLE'] > 0]\n",
    "df_filtered = df_filtered[df_filtered['HINCP'] < 1_000_000]\n",
    "df_filtered = df_filtered[df_filtered['MARKETVAL'] < 2_000_000]\n",
    "df_filtered = df_filtered[df_filtered['MARKETVAL'] > 1_000]\n",
    "df_filtered[\"BATHROOMS\"] = df_filtered[\"BATHROOMS\"].apply(lambda x: int(x.replace(\"'\",\"\")))\n",
    "df_filtered[\"LOTSIZE\"] = df_filtered[\"LOTSIZE\"].apply(lambda x: int(x.replace(\"'\",\"\")))\n",
    "df_filtered = df_filtered[df_filtered['LOTSIZE'] > 0]\n",
    "\n",
    "\n",
    "df_filtered.shape"
   ]
  },
  {
   "cell_type": "code",
   "execution_count": null,
   "metadata": {},
   "outputs": [],
   "source": [
    "_ = df_filtered.hist(column=cols, bins=25, figsize=(20,20))"
   ]
  },
  {
   "cell_type": "markdown",
   "metadata": {},
   "source": [
    "## K-Folds Cross Validation"
   ]
  },
  {
   "cell_type": "code",
   "execution_count": null,
   "metadata": {},
   "outputs": [],
   "source": [
    "df_filtered = df_filtered.sample(frac=1)\n",
    "num_folds = 5\n",
    "folds_counter = 0\n",
    "\n",
    "def assign_k(row):\n",
    "    global num_folds, folds_counter\n",
    "    curr_num = folds_counter\n",
    "    folds_counter = (folds_counter + 1) % num_folds\n",
    "    return curr_num\n",
    "\n",
    "df_filtered['k'] = df_filtered.apply(assign_k, axis=1)\n",
    "\n",
    "df_train = df_filtered[df_filtered['k'] != 0]\n",
    "df_test = df_filtered[df_filtered['k'] == 0]"
   ]
  },
  {
   "cell_type": "markdown",
   "metadata": {},
   "source": [
    "## Model 1 - Multiple Linear Regression - Forward Stepwise Selection"
   ]
  },
  {
   "cell_type": "code",
   "execution_count": null,
   "metadata": {},
   "outputs": [],
   "source": [
    "predictors = cols[:-1]\n",
    "selected_predictors = []\n",
    "errors = []\n",
    "smallest_error = float(\"inf\")\n",
    "smallest_error_index = 0\n",
    "\n",
    "for j in range(len(predictors)):\n",
    "    \n",
    "    smallest_mse_index = 0\n",
    "    smallest_mse = float(\"inf\")\n",
    "    \n",
    "    for i, predictor in enumerate(predictors): \n",
    "        \n",
    "        X = df_train[selected_predictors + [predictor]]\n",
    "        X = sm.add_constant(X)\n",
    "        Y = df_train[\"MARKETVAL\"]\n",
    "        model = sm.OLS(Y,X)\n",
    "        results = model.fit()\n",
    "        y_true = df_test[\"MARKETVAL\"]\n",
    "        y_pred = results.predict(sm.add_constant(df_test[selected_predictors + [predictor]]))\n",
    "        mse = sm.tools.eval_measures.mse(y_true, y_pred)\n",
    "        \n",
    "        if mse < smallest_mse:\n",
    "            smallest_mse = mse\n",
    "            smallest_mse_index = i\n",
    "            \n",
    "            \n",
    "    selected_predictors.append(predictors.pop(smallest_mse_index))\n",
    "    errors.append(smallest_mse)\n",
    "    \n",
    "    if smallest_mse < smallest_error:\n",
    "        smallest_error = smallest_mse\n",
    "        smallest_error_index = j\n",
    "        "
   ]
  },
  {
   "cell_type": "code",
   "execution_count": null,
   "metadata": {},
   "outputs": [],
   "source": [
    "plt.plot(errors)\n",
    "_ = plt.ylabel(\"MSE\")\n",
    "_ = plt.xlabel(\"Number of predictors\")"
   ]
  },
  {
   "cell_type": "code",
   "execution_count": null,
   "metadata": {},
   "outputs": [],
   "source": [
    "# create best model\n",
    "multiple_linear_regression_error = smallest_error\n",
    "print(\"Top predictors: \" + str(selected_predictors[:smallest_error_index+1]))\n",
    "print(\"MSE: \" + str(multiple_linear_regression_error))\n",
    "X = df_train[selected_predictors[:smallest_error_index+1]]\n",
    "X = sm.add_constant(X)\n",
    "Y = df_train[\"MARKETVAL\"]\n",
    "model = sm.OLS(Y,X)\n",
    "results = model.fit()\n",
    "results.summary()"
   ]
  },
  {
   "cell_type": "markdown",
   "metadata": {},
   "source": [
    "## Model 2 - Lasso Regression - Forward Stepwise Selection"
   ]
  },
  {
   "cell_type": "code",
   "execution_count": null,
   "metadata": {},
   "outputs": [],
   "source": [
    "predictors = cols[:-1]\n",
    "selected_predictors = []\n",
    "errors = []\n",
    "smallest_error = float(\"inf\")\n",
    "smallest_error_index = 0\n",
    "\n",
    "for j in range(len(predictors)):\n",
    "    \n",
    "    smallest_mse_index = 0\n",
    "    smallest_mse = float(\"inf\")\n",
    "    \n",
    "    for i, predictor in enumerate(predictors): \n",
    "        \n",
    "        X = df_train[selected_predictors + [predictor]]\n",
    "        Y = df_train[\"MARKETVAL\"]\n",
    "        lasso = Lasso()\n",
    "        lasso.fit(X, Y)\n",
    "        y_true = df_test[\"MARKETVAL\"]\n",
    "        y_pred = lasso.predict(df_test[selected_predictors + [predictor]])        \n",
    "        mse = mean_squared_error(y_true, y_pred)\n",
    "        \n",
    "        if mse < smallest_mse:\n",
    "            smallest_mse = mse\n",
    "            smallest_mse_index = i\n",
    "            \n",
    "            \n",
    "    selected_predictors.append(predictors.pop(smallest_mse_index))\n",
    "    errors.append(smallest_mse)\n",
    "    \n",
    "    if smallest_mse < smallest_error:\n",
    "        smallest_error = smallest_mse\n",
    "        smallest_error_index = j\n",
    "        "
   ]
  },
  {
   "cell_type": "code",
   "execution_count": null,
   "metadata": {},
   "outputs": [],
   "source": [
    "plt.plot(errors)\n",
    "_ = plt.ylabel(\"MSE\")\n",
    "_ = plt.xlabel(\"Number of predictors\")"
   ]
  },
  {
   "cell_type": "code",
   "execution_count": null,
   "metadata": {},
   "outputs": [],
   "source": [
    "lasso_regression_error = smallest_error\n",
    "print(\"Top predictors: \" + str(selected_predictors[:smallest_error_index+1]))\n",
    "print(\"MSE: \" + str(lasso_regression_error))"
   ]
  },
  {
   "cell_type": "markdown",
   "metadata": {},
   "source": [
    "## Model 3 - Ridge Regression - Forward Stepwise Selection"
   ]
  },
  {
   "cell_type": "code",
   "execution_count": null,
   "metadata": {},
   "outputs": [],
   "source": [
    "predictors = cols[:-1]\n",
    "selected_predictors = []\n",
    "errors = []\n",
    "smallest_error = float(\"inf\")\n",
    "smallest_error_index = 0\n",
    "\n",
    "for j in range(len(predictors)):\n",
    "    \n",
    "    smallest_mse_index = 0\n",
    "    smallest_mse = float(\"inf\")\n",
    "    \n",
    "    for i, predictor in enumerate(predictors): \n",
    "        \n",
    "        X = df_train[selected_predictors + [predictor]]\n",
    "        Y = df_train[\"MARKETVAL\"]\n",
    "        ridge = Ridge()\n",
    "        ridge.fit(X, Y)\n",
    "        y_true = df_test[\"MARKETVAL\"]\n",
    "        y_pred = ridge.predict(df_test[selected_predictors + [predictor]])        \n",
    "        mse = mean_squared_error(y_true, y_pred)\n",
    "        \n",
    "        if mse < smallest_mse:\n",
    "            smallest_mse = mse\n",
    "            smallest_mse_index = i\n",
    "            \n",
    "            \n",
    "    selected_predictors.append(predictors.pop(smallest_mse_index))\n",
    "    errors.append(smallest_mse)\n",
    "    \n",
    "    if smallest_mse < smallest_error:\n",
    "        smallest_error = smallest_mse\n",
    "        smallest_error_index = j\n",
    "        "
   ]
  },
  {
   "cell_type": "code",
   "execution_count": null,
   "metadata": {},
   "outputs": [],
   "source": [
    "plt.plot(errors)\n",
    "_ = plt.ylabel(\"MSE\")\n",
    "_ = plt.xlabel(\"Number of predictors\")"
   ]
  },
  {
   "cell_type": "code",
   "execution_count": null,
   "metadata": {},
   "outputs": [],
   "source": [
    "ridge_regression_error = smallest_error\n",
    "print(\"Top predictors: \" + str(selected_predictors[:smallest_error_index+1]))\n",
    "print(\"MSE: \" + str(ridge_regression_error))"
   ]
  },
  {
   "cell_type": "code",
   "execution_count": null,
   "metadata": {},
   "outputs": [],
   "source": [
    "print(multiple_linear_regression_error)\n",
    "print(lasso_regression_error)\n",
    "print(ridge_regression_error)"
   ]
  }
 ],
 "metadata": {
  "kernelspec": {
   "display_name": "Python 3",
   "language": "python",
   "name": "python3"
  },
  "language_info": {
   "codemirror_mode": {
    "name": "ipython",
    "version": 3
   },
   "file_extension": ".py",
   "mimetype": "text/x-python",
   "name": "python",
   "nbconvert_exporter": "python",
   "pygments_lexer": "ipython3",
   "version": "3.7.3"
  }
 },
 "nbformat": 4,
 "nbformat_minor": 2
}

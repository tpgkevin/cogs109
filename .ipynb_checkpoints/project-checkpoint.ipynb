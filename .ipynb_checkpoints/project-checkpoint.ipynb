{
 "cells": [
  {
   "cell_type": "code",
   "execution_count": 126,
   "metadata": {},
   "outputs": [],
   "source": [
    "import pandas as pd\n",
    "import numpy as np\n",
    "import matplotlib\n",
    "import matplotlib.pyplot as plt\n",
    "import math\n",
    "import statsmodels.api as sm\n",
    "from datetime import datetime, timedelta\n",
    "from sklearn.linear_model import Lasso\n",
    "from sklearn.metrics import mean_squared_error\n",
    "\n",
    "\n",
    "\n",
    "%matplotlib inline"
   ]
  },
  {
   "cell_type": "markdown",
   "metadata": {},
   "source": [
    "## American Housing Survey Questionnaire - 2017\n",
    "\n",
    "About: https://www.census.gov/programs-surveys/ahs.html\n",
    "\n",
    "Download: http://www2.census.gov/programs-surveys/ahs/2017/AHS%202017%20National%20PUF%20v3.0%20Flat%20CSV.zip?#\n",
    "\n",
    "Codebook: https://www.census.gov/data-tools/demo/codebook/ahs/ahsdict.html\n",
    "\n",
    "Definitions: https://www2.census.gov/programs-surveys/ahs/2017/2017%20AHS%20Definitions.pdf?#\n"
   ]
  },
  {
   "cell_type": "code",
   "execution_count": 96,
   "metadata": {},
   "outputs": [
    {
     "name": "stdout",
     "output_type": "stream",
     "text": [
      "(66752, 3180)\n"
     ]
    },
    {
     "data": {
      "text/html": [
       "<div>\n",
       "<style scoped>\n",
       "    .dataframe tbody tr th:only-of-type {\n",
       "        vertical-align: middle;\n",
       "    }\n",
       "\n",
       "    .dataframe tbody tr th {\n",
       "        vertical-align: top;\n",
       "    }\n",
       "\n",
       "    .dataframe thead th {\n",
       "        text-align: right;\n",
       "    }\n",
       "</style>\n",
       "<table border=\"1\" class=\"dataframe\">\n",
       "  <thead>\n",
       "    <tr style=\"text-align: right;\">\n",
       "      <th></th>\n",
       "      <th>CONTROL</th>\n",
       "      <th>TOTROOMS</th>\n",
       "      <th>PERPOVLVL</th>\n",
       "      <th>COMTYPE</th>\n",
       "      <th>COMCOST</th>\n",
       "      <th>JACPRIMARY</th>\n",
       "      <th>JACSECNDRY</th>\n",
       "      <th>JADEQUACY</th>\n",
       "      <th>JBATHEXCLU</th>\n",
       "      <th>JBATHROOMS</th>\n",
       "      <th>...</th>\n",
       "      <th>JOBDIY28</th>\n",
       "      <th>JOBFUNDS26</th>\n",
       "      <th>JOBFUNDS27</th>\n",
       "      <th>JOBFUNDS28</th>\n",
       "      <th>JOBTYPE26</th>\n",
       "      <th>JOBTYPE27</th>\n",
       "      <th>JOBTYPE28</th>\n",
       "      <th>JOBWORKYR26</th>\n",
       "      <th>JOBWORKYR27</th>\n",
       "      <th>JOBWORKYR28</th>\n",
       "    </tr>\n",
       "  </thead>\n",
       "  <tbody>\n",
       "    <tr>\n",
       "      <th>0</th>\n",
       "      <td>'11000001'</td>\n",
       "      <td>8</td>\n",
       "      <td>501</td>\n",
       "      <td>'-6'</td>\n",
       "      <td>-6</td>\n",
       "      <td>'0'</td>\n",
       "      <td>'0'</td>\n",
       "      <td>'2'</td>\n",
       "      <td>'0'</td>\n",
       "      <td>'0'</td>\n",
       "      <td>...</td>\n",
       "      <td>'-9'</td>\n",
       "      <td>'-9'</td>\n",
       "      <td>'-9'</td>\n",
       "      <td>'-9'</td>\n",
       "      <td>'-9'</td>\n",
       "      <td>'-9'</td>\n",
       "      <td>'-9'</td>\n",
       "      <td>'-9'</td>\n",
       "      <td>'-9'</td>\n",
       "      <td>'-9'</td>\n",
       "    </tr>\n",
       "    <tr>\n",
       "      <th>1</th>\n",
       "      <td>'11000002'</td>\n",
       "      <td>7</td>\n",
       "      <td>501</td>\n",
       "      <td>'-6'</td>\n",
       "      <td>-6</td>\n",
       "      <td>'0'</td>\n",
       "      <td>'0'</td>\n",
       "      <td>'2'</td>\n",
       "      <td>'0'</td>\n",
       "      <td>'0'</td>\n",
       "      <td>...</td>\n",
       "      <td>'-9'</td>\n",
       "      <td>'-9'</td>\n",
       "      <td>'-9'</td>\n",
       "      <td>'-9'</td>\n",
       "      <td>'-9'</td>\n",
       "      <td>'-9'</td>\n",
       "      <td>'-9'</td>\n",
       "      <td>'-9'</td>\n",
       "      <td>'-9'</td>\n",
       "      <td>'-9'</td>\n",
       "    </tr>\n",
       "    <tr>\n",
       "      <th>2</th>\n",
       "      <td>'11000005'</td>\n",
       "      <td>8</td>\n",
       "      <td>501</td>\n",
       "      <td>'-6'</td>\n",
       "      <td>-6</td>\n",
       "      <td>'0'</td>\n",
       "      <td>'0'</td>\n",
       "      <td>'2'</td>\n",
       "      <td>'0'</td>\n",
       "      <td>'0'</td>\n",
       "      <td>...</td>\n",
       "      <td>'-9'</td>\n",
       "      <td>'-9'</td>\n",
       "      <td>'-9'</td>\n",
       "      <td>'-9'</td>\n",
       "      <td>'-9'</td>\n",
       "      <td>'-9'</td>\n",
       "      <td>'-9'</td>\n",
       "      <td>'-9'</td>\n",
       "      <td>'-9'</td>\n",
       "      <td>'-9'</td>\n",
       "    </tr>\n",
       "    <tr>\n",
       "      <th>3</th>\n",
       "      <td>'11000006'</td>\n",
       "      <td>5</td>\n",
       "      <td>361</td>\n",
       "      <td>'-6'</td>\n",
       "      <td>-6</td>\n",
       "      <td>'0'</td>\n",
       "      <td>'0'</td>\n",
       "      <td>'2'</td>\n",
       "      <td>'0'</td>\n",
       "      <td>'0'</td>\n",
       "      <td>...</td>\n",
       "      <td>'-9'</td>\n",
       "      <td>'-9'</td>\n",
       "      <td>'-9'</td>\n",
       "      <td>'-9'</td>\n",
       "      <td>'-9'</td>\n",
       "      <td>'-9'</td>\n",
       "      <td>'-9'</td>\n",
       "      <td>'-9'</td>\n",
       "      <td>'-9'</td>\n",
       "      <td>'-9'</td>\n",
       "    </tr>\n",
       "    <tr>\n",
       "      <th>4</th>\n",
       "      <td>'11000007'</td>\n",
       "      <td>8</td>\n",
       "      <td>501</td>\n",
       "      <td>'1'</td>\n",
       "      <td>5564</td>\n",
       "      <td>'0'</td>\n",
       "      <td>'0'</td>\n",
       "      <td>'2'</td>\n",
       "      <td>'0'</td>\n",
       "      <td>'0'</td>\n",
       "      <td>...</td>\n",
       "      <td>'-9'</td>\n",
       "      <td>'-9'</td>\n",
       "      <td>'-9'</td>\n",
       "      <td>'-9'</td>\n",
       "      <td>'-9'</td>\n",
       "      <td>'-9'</td>\n",
       "      <td>'-9'</td>\n",
       "      <td>'-9'</td>\n",
       "      <td>'-9'</td>\n",
       "      <td>'-9'</td>\n",
       "    </tr>\n",
       "  </tbody>\n",
       "</table>\n",
       "<p>5 rows × 3180 columns</p>\n",
       "</div>"
      ],
      "text/plain": [
       "      CONTROL  TOTROOMS  PERPOVLVL COMTYPE  COMCOST JACPRIMARY JACSECNDRY  \\\n",
       "0  '11000001'         8        501    '-6'       -6        '0'        '0'   \n",
       "1  '11000002'         7        501    '-6'       -6        '0'        '0'   \n",
       "2  '11000005'         8        501    '-6'       -6        '0'        '0'   \n",
       "3  '11000006'         5        361    '-6'       -6        '0'        '0'   \n",
       "4  '11000007'         8        501     '1'     5564        '0'        '0'   \n",
       "\n",
       "  JADEQUACY JBATHEXCLU JBATHROOMS  ... JOBDIY28 JOBFUNDS26 JOBFUNDS27  \\\n",
       "0       '2'        '0'        '0'  ...     '-9'       '-9'       '-9'   \n",
       "1       '2'        '0'        '0'  ...     '-9'       '-9'       '-9'   \n",
       "2       '2'        '0'        '0'  ...     '-9'       '-9'       '-9'   \n",
       "3       '2'        '0'        '0'  ...     '-9'       '-9'       '-9'   \n",
       "4       '2'        '0'        '0'  ...     '-9'       '-9'       '-9'   \n",
       "\n",
       "  JOBFUNDS28 JOBTYPE26 JOBTYPE27 JOBTYPE28 JOBWORKYR26 JOBWORKYR27 JOBWORKYR28  \n",
       "0       '-9'      '-9'      '-9'      '-9'        '-9'        '-9'        '-9'  \n",
       "1       '-9'      '-9'      '-9'      '-9'        '-9'        '-9'        '-9'  \n",
       "2       '-9'      '-9'      '-9'      '-9'        '-9'        '-9'        '-9'  \n",
       "3       '-9'      '-9'      '-9'      '-9'        '-9'        '-9'        '-9'  \n",
       "4       '-9'      '-9'      '-9'      '-9'        '-9'        '-9'        '-9'  \n",
       "\n",
       "[5 rows x 3180 columns]"
      ]
     },
     "execution_count": 96,
     "metadata": {},
     "output_type": "execute_result"
    }
   ],
   "source": [
    "df = pd.read_csv(\"data/ahs2017n.csv\")\n",
    "print(df.shape)\n",
    "df.head()"
   ]
  },
  {
   "cell_type": "markdown",
   "metadata": {},
   "source": [
    "## Cleaning and Exploration"
   ]
  },
  {
   "cell_type": "code",
   "execution_count": 97,
   "metadata": {},
   "outputs": [
    {
     "data": {
      "text/plain": [
       "(31001, 11)"
      ]
     },
     "execution_count": 97,
     "metadata": {},
     "output_type": "execute_result"
    }
   ],
   "source": [
    "cols = [\n",
    "    \"YRBUILT\",    # year built\n",
    "    \"LOTSIZE\",    # size of lot\n",
    "    \"STORIES\",    # number of stories\n",
    "    \"BEDROOMS\",   # number of bedrooms\n",
    "    \"BATHROOMS\",  # number of bathrooms\n",
    "    \"KITCHENS\",   # number of kitches\n",
    "    \"NUMPEOPLE\",  # number of people living in unit\n",
    "    \"TOTROOMS\",   # total rooms\n",
    "    \"HHAGE\",      # householder age\n",
    "    \"HINCP\",      # household income\n",
    "    \"MARKETVAL\",  # current market value\n",
    "]\n",
    "\n",
    "df_filtered = df[cols]\n",
    "df_filtered = df_filtered[df_filtered['NUMPEOPLE'] > 0]\n",
    "df_filtered = df_filtered[df_filtered['HINCP'] < 1_000_000]\n",
    "df_filtered = df_filtered[df_filtered['MARKETVAL'] < 2_000_000]\n",
    "df_filtered = df_filtered[df_filtered['MARKETVAL'] > 1_000]\n",
    "df_filtered[\"BATHROOMS\"] = df_filtered[\"BATHROOMS\"].apply(lambda x: int(x.replace(\"'\",\"\")))\n",
    "df_filtered[\"LOTSIZE\"] = df_filtered[\"LOTSIZE\"].apply(lambda x: int(x.replace(\"'\",\"\")))\n",
    "df_filtered = df_filtered[df_filtered['LOTSIZE'] > 0]\n",
    "\n",
    "\n",
    "df_filtered.shape"
   ]
  },
  {
   "cell_type": "code",
   "execution_count": 98,
   "metadata": {},
   "outputs": [
    {
     "data": {
      "image/png": "[encoded data removed]",
      "text/plain": [
       "<Figure size 1440x1440 with 12 Axes>"
      ]
     },
     "metadata": {
      "needs_background": "light"
     },
     "output_type": "display_data"
    }
   ],
   "source": [
    "_ = df_filtered.hist(column=cols, bins=25, figsize=(20,20))"
   ]
  },
  {
   "cell_type": "markdown",
   "metadata": {},
   "source": [
    "## K-Folds Cross Validation"
   ]
  },
  {
   "cell_type": "code",
   "execution_count": 99,
   "metadata": {},
   "outputs": [],
   "source": [
    "df_filtered = df_filtered.sample(frac=1)\n",
    "num_folds = 5\n",
    "folds_counter = 0\n",
    "\n",
    "def assign_k(row):\n",
    "    global num_folds, folds_counter\n",
    "    curr_num = folds_counter\n",
    "    folds_counter = (folds_counter + 1) % num_folds\n",
    "    return curr_num\n",
    "\n",
    "df_filtered['k'] = df_filtered.apply(assign_k, axis=1)\n",
    "\n",
    "df_train = df_filtered[df_filtered['k'] != 0]\n",
    "df_test = df_filtered[df_filtered['k'] == 0]"
   ]
  },
  {
   "cell_type": "markdown",
   "metadata": {},
   "source": [
    "## Model 1 - Multiple Linear Regression - Forward Stepwise Selection"
   ]
  },
  {
   "cell_type": "code",
   "execution_count": 105,
   "metadata": {},
   "outputs": [
    {
     "name": "stderr",
     "output_type": "stream",
     "text": [
      "/usr/local/lib/python3.7/dist-packages/numpy/core/fromnumeric.py:2389: FutureWarning: Method .ptp is deprecated and will be removed in a future version. Use numpy.ptp instead.\n",
      "  return ptp(axis=axis, out=out, **kwargs)\n"
     ]
    }
   ],
   "source": [
    "predictors = cols[:-1]\n",
    "selected_predictors = []\n",
    "errors = []\n",
    "smallest_error = float(\"inf\")\n",
    "smallest_error_index = 0\n",
    "\n",
    "for j in range(len(predictors)):\n",
    "    \n",
    "    smallest_mse_index = 0\n",
    "    smallest_mse = float(\"inf\")\n",
    "    \n",
    "    for i, predictor in enumerate(predictors): \n",
    "        \n",
    "        X = df_train[selected_predictors + [predictor]]\n",
    "        X = sm.add_constant(X)\n",
    "        Y = df_train[\"MARKETVAL\"]\n",
    "        model = sm.OLS(Y,X)\n",
    "        results = model.fit()\n",
    "        y_true = df_test[\"MARKETVAL\"]\n",
    "        y_pred = results.predict(sm.add_constant(df_test[selected_predictors + [predictor]]))\n",
    "        mse = sm.tools.eval_measures.mse(y_true, y_pred)\n",
    "        \n",
    "        if mse < smallest_mse:\n",
    "            smallest_mse = mse\n",
    "            smallest_mse_index = i\n",
    "            \n",
    "            \n",
    "    selected_predictors.append(predictors.pop(smallest_mse_index))\n",
    "    errors.append(smallest_mse)\n",
    "    \n",
    "    if smallest_mse < smallest_error:\n",
    "        smallest_error = smallest_mse\n",
    "        smallest_error_index = j\n",
    "        "
   ]
  },
  {
   "cell_type": "code",
   "execution_count": 106,
   "metadata": {},
   "outputs": [
    {
     "data": {
      "image/png": "[encoded data removed]",
      "text/plain": [
       "<Figure size 432x288 with 1 Axes>"
      ]
     },
     "metadata": {
      "needs_background": "light"
     },
     "output_type": "display_data"
    }
   ],
   "source": [
    "plt.plot(errors)\n",
    "_ = plt.ylabel(\"MSE\")\n",
    "_ = plt.xlabel(\"Number of predictors\")"
   ]
  },
  {
   "cell_type": "code",
   "execution_count": 120,
   "metadata": {},
   "outputs": [
    {
     "name": "stdout",
     "output_type": "stream",
     "text": [
      "Top predictors: ['BATHROOMS', 'HINCP', 'YRBUILT', 'TOTROOMS', 'LOTSIZE', 'HHAGE', 'KITCHENS', 'BEDROOMS']\n",
      "MSE: 48384403446.67106\n"
     ]
    },
    {
     "name": "stderr",
     "output_type": "stream",
     "text": [
      "/usr/local/lib/python3.7/dist-packages/numpy/core/fromnumeric.py:2389: FutureWarning: Method .ptp is deprecated and will be removed in a future version. Use numpy.ptp instead.\n",
      "  return ptp(axis=axis, out=out, **kwargs)\n"
     ]
    },
    {
     "data": {
      "text/html": [
       "<table class=\"simpletable\">\n",
       "<caption>OLS Regression Results</caption>\n",
       "<tr>\n",
       "  <th>Dep. Variable:</th>        <td>MARKETVAL</td>    <th>  R-squared:         </th>  <td>   0.299</td>  \n",
       "</tr>\n",
       "<tr>\n",
       "  <th>Model:</th>                   <td>OLS</td>       <th>  Adj. R-squared:    </th>  <td>   0.299</td>  \n",
       "</tr>\n",
       "<tr>\n",
       "  <th>Method:</th>             <td>Least Squares</td>  <th>  F-statistic:       </th>  <td>   1323.</td>  \n",
       "</tr>\n",
       "<tr>\n",
       "  <th>Date:</th>             <td>Wed, 04 Dec 2019</td> <th>  Prob (F-statistic):</th>   <td>  0.00</td>   \n",
       "</tr>\n",
       "<tr>\n",
       "  <th>Time:</th>                 <td>15:05:36</td>     <th>  Log-Likelihood:    </th> <td>-3.4125e+05</td>\n",
       "</tr>\n",
       "<tr>\n",
       "  <th>No. Observations:</th>      <td> 24800</td>      <th>  AIC:               </th>  <td>6.825e+05</td> \n",
       "</tr>\n",
       "<tr>\n",
       "  <th>Df Residuals:</th>          <td> 24791</td>      <th>  BIC:               </th>  <td>6.826e+05</td> \n",
       "</tr>\n",
       "<tr>\n",
       "  <th>Df Model:</th>              <td>     8</td>      <th>                     </th>      <td> </td>     \n",
       "</tr>\n",
       "<tr>\n",
       "  <th>Covariance Type:</th>      <td>nonrobust</td>    <th>                     </th>      <td> </td>     \n",
       "</tr>\n",
       "</table>\n",
       "<table class=\"simpletable\">\n",
       "<tr>\n",
       "      <td></td>         <th>coef</th>     <th>std err</th>      <th>t</th>      <th>P>|t|</th>  <th>[0.025</th>    <th>0.975]</th>  \n",
       "</tr>\n",
       "<tr>\n",
       "  <th>const</th>     <td> 2.597e+06</td> <td> 1.34e+05</td> <td>   19.431</td> <td> 0.000</td> <td> 2.34e+06</td> <td> 2.86e+06</td>\n",
       "</tr>\n",
       "<tr>\n",
       "  <th>BATHROOMS</th> <td> 5.899e+04</td> <td> 1530.665</td> <td>   38.538</td> <td> 0.000</td> <td>  5.6e+04</td> <td>  6.2e+04</td>\n",
       "</tr>\n",
       "<tr>\n",
       "  <th>HINCP</th>     <td>    0.8519</td> <td>    0.016</td> <td>   53.618</td> <td> 0.000</td> <td>    0.821</td> <td>    0.883</td>\n",
       "</tr>\n",
       "<tr>\n",
       "  <th>YRBUILT</th>   <td>-1352.4942</td> <td>   65.778</td> <td>  -20.562</td> <td> 0.000</td> <td>-1481.422</td> <td>-1223.566</td>\n",
       "</tr>\n",
       "<tr>\n",
       "  <th>TOTROOMS</th>  <td> 2.427e+04</td> <td> 1642.212</td> <td>   14.776</td> <td> 0.000</td> <td>  2.1e+04</td> <td> 2.75e+04</td>\n",
       "</tr>\n",
       "<tr>\n",
       "  <th>LOTSIZE</th>   <td>-1.195e+04</td> <td>  984.704</td> <td>  -12.138</td> <td> 0.000</td> <td>-1.39e+04</td> <td>   -1e+04</td>\n",
       "</tr>\n",
       "<tr>\n",
       "  <th>HHAGE</th>     <td> 1506.5331</td> <td>  100.773</td> <td>   14.950</td> <td> 0.000</td> <td> 1309.011</td> <td> 1704.055</td>\n",
       "</tr>\n",
       "<tr>\n",
       "  <th>KITCHENS</th>  <td>-9.394e+04</td> <td> 3.13e+04</td> <td>   -3.001</td> <td> 0.003</td> <td>-1.55e+05</td> <td>-3.26e+04</td>\n",
       "</tr>\n",
       "<tr>\n",
       "  <th>BEDROOMS</th>  <td>-3796.8785</td> <td> 2887.983</td> <td>   -1.315</td> <td> 0.189</td> <td>-9457.497</td> <td> 1863.740</td>\n",
       "</tr>\n",
       "</table>\n",
       "<table class=\"simpletable\">\n",
       "<tr>\n",
       "  <th>Omnibus:</th>       <td>11171.357</td> <th>  Durbin-Watson:     </th> <td>   2.004</td> \n",
       "</tr>\n",
       "<tr>\n",
       "  <th>Prob(Omnibus):</th>  <td> 0.000</td>   <th>  Jarque-Bera (JB):  </th> <td>75601.043</td>\n",
       "</tr>\n",
       "<tr>\n",
       "  <th>Skew:</th>           <td> 2.056</td>   <th>  Prob(JB):          </th> <td>    0.00</td> \n",
       "</tr>\n",
       "<tr>\n",
       "  <th>Kurtosis:</th>       <td>10.500</td>   <th>  Cond. No.          </th> <td>1.32e+07</td> \n",
       "</tr>\n",
       "</table><br/><br/>Warnings:<br/>[1] Standard Errors assume that the covariance matrix of the errors is correctly specified.<br/>[2] The condition number is large, 1.32e+07. This might indicate that there are<br/>strong multicollinearity or other numerical problems."
      ],
      "text/plain": [
       "<class 'statsmodels.iolib.summary.Summary'>\n",
       "\"\"\"\n",
       "                            OLS Regression Results                            \n",
       "==============================================================================\n",
       "Dep. Variable:              MARKETVAL   R-squared:                       0.299\n",
       "Model:                            OLS   Adj. R-squared:                  0.299\n",
       "Method:                 Least Squares   F-statistic:                     1323.\n",
       "Date:                Wed, 04 Dec 2019   Prob (F-statistic):               0.00\n",
       "Time:                        15:05:36   Log-Likelihood:            -3.4125e+05\n",
       "No. Observations:               24800   AIC:                         6.825e+05\n",
       "Df Residuals:                   24791   BIC:                         6.826e+05\n",
       "Df Model:                           8                                         \n",
       "Covariance Type:            nonrobust                                         \n",
       "==============================================================================\n",
       "                 coef    std err          t      P>|t|      [0.025      0.975]\n",
       "------------------------------------------------------------------------------\n",
       "const       2.597e+06   1.34e+05     19.431      0.000    2.34e+06    2.86e+06\n",
       "BATHROOMS   5.899e+04   1530.665     38.538      0.000     5.6e+04     6.2e+04\n",
       "HINCP          0.8519      0.016     53.618      0.000       0.821       0.883\n",
       "YRBUILT    -1352.4942     65.778    -20.562      0.000   -1481.422   -1223.566\n",
       "TOTROOMS    2.427e+04   1642.212     14.776      0.000     2.1e+04    2.75e+04\n",
       "LOTSIZE    -1.195e+04    984.704    -12.138      0.000   -1.39e+04      -1e+04\n",
       "HHAGE       1506.5331    100.773     14.950      0.000    1309.011    1704.055\n",
       "KITCHENS   -9.394e+04   3.13e+04     -3.001      0.003   -1.55e+05   -3.26e+04\n",
       "BEDROOMS   -3796.8785   2887.983     -1.315      0.189   -9457.497    1863.740\n",
       "==============================================================================\n",
       "Omnibus:                    11171.357   Durbin-Watson:                   2.004\n",
       "Prob(Omnibus):                  0.000   Jarque-Bera (JB):            75601.043\n",
       "Skew:                           2.056   Prob(JB):                         0.00\n",
       "Kurtosis:                      10.500   Cond. No.                     1.32e+07\n",
       "==============================================================================\n",
       "\n",
       "Warnings:\n",
       "[1] Standard Errors assume that the covariance matrix of the errors is correctly specified.\n",
       "[2] The condition number is large, 1.32e+07. This might indicate that there are\n",
       "strong multicollinearity or other numerical problems.\n",
       "\"\"\""
      ]
     },
     "execution_count": 120,
     "metadata": {},
     "output_type": "execute_result"
    }
   ],
   "source": [
    "# create best model\n",
    "multiple_linear_regression_error = smallest_error\n",
    "print(\"Top predictors: \" + str(selected_predictors[:smallest_error_index+1]))\n",
    "print(\"MSE: \" + str(multiple_linear_regression_error))\n",
    "X = df_train[selected_predictors[:smallest_error_index+1]]\n",
    "X = sm.add_constant(X)\n",
    "Y = df_train[\"MARKETVAL\"]\n",
    "model = sm.OLS(Y,X)\n",
    "results = model.fit()\n",
    "results.summary()"
   ]
  },
  {
   "cell_type": "markdown",
   "metadata": {},
   "source": [
    "## Model 2 - Lasso Regression - Forward Stepwise Selection"
   ]
  },
  {
   "cell_type": "code",
   "execution_count": 127,
   "metadata": {},
   "outputs": [],
   "source": [
    "predictors = cols[:-1]\n",
    "selected_predictors = []\n",
    "errors = []\n",
    "smallest_error = float(\"inf\")\n",
    "smallest_error_index = 0\n",
    "\n",
    "for j in range(len(predictors)):\n",
    "    \n",
    "    smallest_mse_index = 0\n",
    "    smallest_mse = float(\"inf\")\n",
    "    \n",
    "    for i, predictor in enumerate(predictors): \n",
    "        \n",
    "        X = df_train[selected_predictors + [predictor]]\n",
    "        Y = df_train[\"MARKETVAL\"]\n",
    "        lasso = Lasso()\n",
    "        lasso.fit(X, Y)\n",
    "        \n",
    "        y_true = df_test[\"MARKETVAL\"]\n",
    "        y_pred = lasso.predict(df_test[selected_predictors + [predictor]])\n",
    "        \n",
    "#         mse =lasso.score(df_test[selected_predictors + [predictor]], df_test[\"MARKETVAL\"])        \n",
    "        \n",
    "        mse = mean_squared_error(y_true, y_pred)\n",
    "#         mse = sm.tools.eval_measures.mse(y_true, y_pred)\n",
    "        \n",
    "        if mse < smallest_mse:\n",
    "            smallest_mse = mse\n",
    "            smallest_mse_index = i\n",
    "            \n",
    "            \n",
    "    selected_predictors.append(predictors.pop(smallest_mse_index))\n",
    "    errors.append(smallest_mse)\n",
    "    \n",
    "    if smallest_mse < smallest_error:\n",
    "        smallest_error = smallest_mse\n",
    "        smallest_error_index = j\n",
    "        "
   ]
  },
  {
   "cell_type": "code",
   "execution_count": 135,
   "metadata": {},
   "outputs": [
    {
     "name": "stdout",
     "output_type": "stream",
     "text": [
      "Top predictors: ['BATHROOMS', 'HINCP', 'YRBUILT', 'TOTROOMS', 'LOTSIZE', 'HHAGE', 'KITCHENS', 'BEDROOMS']\n",
      "MSE: 48384403446.67106\n"
     ]
    },
    {
     "ename": "AttributeError",
     "evalue": "'Lasso' object has no attribute 'best_params_'",
     "output_type": "error",
     "traceback": [
      "\u001b[0;31m---------------------------------------------------------------------------\u001b[0m",
      "\u001b[0;31mAttributeError\u001b[0m                            Traceback (most recent call last)",
      "\u001b[0;32m<ipython-input-135-d1395cda8f98>\u001b[0m in \u001b[0;36m<module>\u001b[0;34m\u001b[0m\n\u001b[1;32m      6\u001b[0m \u001b[0mlasso\u001b[0m \u001b[0;34m=\u001b[0m \u001b[0mLasso\u001b[0m\u001b[0;34m(\u001b[0m\u001b[0;34m)\u001b[0m\u001b[0;34m\u001b[0m\u001b[0;34m\u001b[0m\u001b[0m\n\u001b[1;32m      7\u001b[0m \u001b[0mlasso\u001b[0m \u001b[0;34m=\u001b[0m \u001b[0mlasso\u001b[0m\u001b[0;34m.\u001b[0m\u001b[0mfit\u001b[0m\u001b[0;34m(\u001b[0m\u001b[0mX\u001b[0m\u001b[0;34m,\u001b[0m \u001b[0mY\u001b[0m\u001b[0;34m)\u001b[0m\u001b[0;34m\u001b[0m\u001b[0;34m\u001b[0m\u001b[0m\n\u001b[0;32m----> 8\u001b[0;31m \u001b[0mlasso\u001b[0m\u001b[0;34m.\u001b[0m\u001b[0mbest_params_\u001b[0m\u001b[0;34m\u001b[0m\u001b[0;34m\u001b[0m\u001b[0m\n\u001b[0m",
      "\u001b[0;31mAttributeError\u001b[0m: 'Lasso' object has no attribute 'best_params_'"
     ]
    }
   ],
   "source": [
    "lasso_regression_error = smallest_error\n",
    "print(\"Top predictors: \" + str(selected_predictors[:smallest_error_index+1]))\n",
    "print(\"MSE: \" + str(multiple_linear_regression_error))\n",
    "X = df_train[selected_predictors[:smallest_error_index+1]]\n",
    "Y = df_train[\"MARKETVAL\"]\n",
    "lasso = Lasso()\n",
    "lasso = lasso.fit(X, Y)\n"
   ]
  },
  {
   "cell_type": "code",
   "execution_count": 130,
   "metadata": {},
   "outputs": [
    {
     "data": {
      "text/plain": [
       "-98376.12127685547"
      ]
     },
     "execution_count": 130,
     "metadata": {},
     "output_type": "execute_result"
    }
   ],
   "source": []
  },
  {
   "cell_type": "code",
   "execution_count": null,
   "metadata": {},
   "outputs": [],
   "source": []
  }
 ],
 "metadata": {
  "kernelspec": {
   "display_name": "Python 3",
   "language": "python",
   "name": "python3"
  },
  "language_info": {
   "codemirror_mode": {
    "name": "ipython",
    "version": 3
   },
   "file_extension": ".py",
   "mimetype": "text/x-python",
   "name": "python",
   "nbconvert_exporter": "python",
   "pygments_lexer": "ipython3",
   "version": "3.7.3"
  }
 },
 "nbformat": 4,
 "nbformat_minor": 2
}
